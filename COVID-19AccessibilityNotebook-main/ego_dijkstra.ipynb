{
 "cells": [
  {
   "cell_type": "code",
   "execution_count": 1,
   "id": "editorial-glass",
   "metadata": {},
   "outputs": [],
   "source": [
    "import pandas as pd\n",
    "import numpy as np\n",
    "import geopandas as gpd\n",
    "import networkx as nx\n",
    "import osmnx as ox\n",
    "from shapely.geometry import Point, LineString, Polygon\n",
    "from tqdm import tqdm\n",
    "import warnings\n",
    "\n",
    "warnings.filterwarnings(\"ignore\")"
   ]
  },
  {
   "cell_type": "code",
   "execution_count": 2,
   "id": "demanding-depression",
   "metadata": {},
   "outputs": [],
   "source": [
    "def network_setting(network):\n",
    "    _nodes_removed = len([n for (n, deg) in network.out_degree() if deg ==0])\n",
    "    network.remove_nodes_from([n for (n, deg) in network.out_degree() if deg ==0])\n",
    "    for component in list(nx.strongly_connected_components(network)):\n",
    "        if len(component)<10:\n",
    "            for node in component:\n",
    "                _nodes_removed+=1\n",
    "                network.remove_node(node)\n",
    "    for u, v, k, data in tqdm(G.edges(data=True, keys=True),position=0):\n",
    "        if 'maxspeed' in data.keys():\n",
    "            speed_type = type(data['maxspeed'])\n",
    "            if (speed_type==str):\n",
    "                if len(data['maxspeed'].split(','))==2:\n",
    "                    data['maxspeed']=float(data['maxspeed'].split(',')[0])                  \n",
    "                elif data['maxspeed']=='signals':\n",
    "                    data['maxspeed']=35.0 # drive speed setting as 35 miles\n",
    "                else:\n",
    "                    data['maxspeed']=float(data['maxspeed'].split()[0])\n",
    "            else:\n",
    "                data['maxspeed']=float(data['maxspeed'][0].split()[0])\n",
    "        else:\n",
    "            data['maxspeed']= 35.0 #miles\n",
    "        data['maxspeed_meters'] = data['maxspeed']*26.8223 # convert mile to meter\n",
    "        data['time'] = float(data['length'])/ data['maxspeed_meters']\n",
    "    print(\"Removed {} nodes ({:2.4f}%) from the OSMNX network\".format(_nodes_removed, _nodes_removed/float(network.number_of_nodes())))\n",
    "    print(\"Number of nodes: {}\".format(network.number_of_nodes()))\n",
    "    print(\"Number of edges: {}\".format(network.number_of_edges()))\n",
    "    return(network)\n",
    "\n",
    "def hospital_setting(hospitals, G):\n",
    "    hospitals['nearest_osm']=None\n",
    "    for i in tqdm(hospitals.index, desc=\"Find the nearest osm from hospitals\", position=0):\n",
    "        hospitals['nearest_osm'][i] = ox.get_nearest_node(G, [hospitals['Y'][i], hospitals['X'][i]], method='euclidean') # find the nearest node from hospital location\n",
    "    print ('hospital setting is done')\n",
    "    return(hospitals)"
   ]
  },
  {
   "cell_type": "code",
   "execution_count": 19,
   "id": "cellular-canon",
   "metadata": {},
   "outputs": [
    {
     "name": "stderr",
     "output_type": "stream",
     "text": [
      "Find the nearest osm from hospitals: 100%|███████████████████████████████████████████| 183/183 [01:25<00:00,  2.15it/s]"
     ]
    },
    {
     "name": "stdout",
     "output_type": "stream",
     "text": [
      "hospital setting is done\n",
      "Wall time: 4min 2s\n"
     ]
    },
    {
     "name": "stderr",
     "output_type": "stream",
     "text": [
      "\n"
     ]
    }
   ],
   "source": [
    "%%time\n",
    "#G = ox.load_graphml('Illinois_Network.graphml', folder=\"Data\", node_type=str)\n",
    "#G = network_setting (G)\n",
    "G = ox.load_graphml('Data/Illinois_Prepared.graphml', edge_dtypes={\"osmid\":str,\"time\":float})\n",
    "hospitals = gpd.read_file('./Data/HospitalData/{}_Hospital_Info.shp'.format(\"Illinois\"))\n",
    "hospitals = hospital_setting(hospitals, G)\n",
    "distances=[10,20,30]"
   ]
  },
  {
   "cell_type": "code",
   "execution_count": 5,
   "id": "characteristic-thompson",
   "metadata": {},
   "outputs": [],
   "source": [
    "def dijkstra_cca(G, nearest_osm, distance, distance_unit = \"time\"):\n",
    "    road_network = G.subgraph(nx.single_source_dijkstra_path_length(G, nearest_osm, distance, distance_unit))  \n",
    "    nodes = [Point((data['x'], data['y'])) for node, data in road_network.nodes(data=True)]\n",
    "    polygon = gpd.GeoSeries(nodes).unary_union.convex_hull ## to create convex hull\n",
    "    polygon = gpd.GeoDataFrame(gpd.GeoSeries(polygon)) ## change polygon to geopandas\n",
    "    polygon = polygon.rename(columns={0:'geometry'}).set_geometry('geometry')\n",
    "    return polygon.copy(deep=True)"
   ]
  },
  {
   "cell_type": "code",
   "execution_count": 6,
   "id": "liked-maintenance",
   "metadata": {},
   "outputs": [],
   "source": [
    "def ego_cca(G, nearest_osm, distance, distance_unit = \"time\"):\n",
    "    road_network = nx.ego_graph(G, nearest_osm, distance, distance=distance_unit) \n",
    "    nodes = [Point((data['x'], data['y'])) for node, data in road_network.nodes(data=True)]\n",
    "    polygon = gpd.GeoSeries(nodes).unary_union.convex_hull ## to create convex hull\n",
    "    polygon = gpd.GeoDataFrame(gpd.GeoSeries(polygon)) ## change polygon to geopandas\n",
    "    polygon = polygon.rename(columns={0:'geometry'}).set_geometry('geometry')\n",
    "    return polygon.copy(deep=True)"
   ]
  },
  {
   "cell_type": "code",
   "execution_count": 20,
   "id": "wrong-december",
   "metadata": {},
   "outputs": [
    {
     "name": "stdout",
     "output_type": "stream",
     "text": [
      "Wall time: 802 ms\n"
     ]
    },
    {
     "data": {
      "text/html": [
       "<div>\n",
       "<style scoped>\n",
       "    .dataframe tbody tr th:only-of-type {\n",
       "        vertical-align: middle;\n",
       "    }\n",
       "\n",
       "    .dataframe tbody tr th {\n",
       "        vertical-align: top;\n",
       "    }\n",
       "\n",
       "    .dataframe thead th {\n",
       "        text-align: right;\n",
       "    }\n",
       "</style>\n",
       "<table border=\"1\" class=\"dataframe\">\n",
       "  <thead>\n",
       "    <tr style=\"text-align: right;\">\n",
       "      <th></th>\n",
       "      <th>geometry</th>\n",
       "    </tr>\n",
       "  </thead>\n",
       "  <tbody>\n",
       "    <tr>\n",
       "      <th>0</th>\n",
       "      <td>POLYGON ((-90.08384 38.60189, -90.08789 38.601...</td>\n",
       "    </tr>\n",
       "  </tbody>\n",
       "</table>\n",
       "</div>"
      ],
      "text/plain": [
       "                                            geometry\n",
       "0  POLYGON ((-90.08384 38.60189, -90.08789 38.601..."
      ]
     },
     "execution_count": 20,
     "metadata": {},
     "output_type": "execute_result"
    }
   ],
   "source": [
    "%%time\n",
    "ego_cca(G, hospitals['nearest_osm'][0], distances[2])"
   ]
  },
  {
   "cell_type": "code",
   "execution_count": 21,
   "id": "automatic-commons",
   "metadata": {},
   "outputs": [
    {
     "name": "stdout",
     "output_type": "stream",
     "text": [
      "Wall time: 232 ms\n"
     ]
    },
    {
     "data": {
      "text/html": [
       "<div>\n",
       "<style scoped>\n",
       "    .dataframe tbody tr th:only-of-type {\n",
       "        vertical-align: middle;\n",
       "    }\n",
       "\n",
       "    .dataframe tbody tr th {\n",
       "        vertical-align: top;\n",
       "    }\n",
       "\n",
       "    .dataframe thead th {\n",
       "        text-align: right;\n",
       "    }\n",
       "</style>\n",
       "<table border=\"1\" class=\"dataframe\">\n",
       "  <thead>\n",
       "    <tr style=\"text-align: right;\">\n",
       "      <th></th>\n",
       "      <th>geometry</th>\n",
       "    </tr>\n",
       "  </thead>\n",
       "  <tbody>\n",
       "    <tr>\n",
       "      <th>0</th>\n",
       "      <td>POLYGON ((-90.08384 38.60189, -90.08789 38.601...</td>\n",
       "    </tr>\n",
       "  </tbody>\n",
       "</table>\n",
       "</div>"
      ],
      "text/plain": [
       "                                            geometry\n",
       "0  POLYGON ((-90.08384 38.60189, -90.08789 38.601..."
      ]
     },
     "execution_count": 21,
     "metadata": {},
     "output_type": "execute_result"
    }
   ],
   "source": [
    "%%time \n",
    "dijkstra_cca(G, hospitals['nearest_osm'][0], distances[2])"
   ]
  },
  {
   "cell_type": "code",
   "execution_count": 18,
   "id": "future-revolution",
   "metadata": {},
   "outputs": [
    {
     "data": {
      "text/plain": [
       "AdjacencyView({236378002: {0: {'osmid': '21954891', 'name': 'Rock Springs Drive', 'highway': 'residential', 'oneway': False, 'length': 27.953, 'maxspeed': '35.0', 'maxspeed_meters': '938.7805', 'time': '0.029775863473943058'}}, 236487495: {0: {'osmid': '21945565', 'name': 'Memorial Drive', 'highway': 'residential', 'oneway': False, 'length': 380.01199999999994, 'geometry': <shapely.geometry.linestring.LineString object at 0x00000232720C1A00>, 'maxspeed': '35.0', 'maxspeed_meters': '938.7805', 'time': '0.40479323974028003'}}, 236548860: {0: {'osmid': '21954891', 'name': 'Rock Springs Drive', 'highway': 'residential', 'oneway': False, 'length': 363.786, 'geometry': <shapely.geometry.linestring.LineString object at 0x00000232720C17C0>, 'maxspeed': '35.0', 'maxspeed_meters': '938.7805', 'time': '0.38750911421786033'}}})"
      ]
     },
     "execution_count": 18,
     "metadata": {},
     "output_type": "execute_result"
    }
   ],
   "source": [
    "G.adj[236487434]"
   ]
  },
  {
   "cell_type": "code",
   "execution_count": 29,
   "id": "magnetic-elite",
   "metadata": {},
   "outputs": [
    {
     "name": "stdout",
     "output_type": "stream",
     "text": [
      "Wall time: 3min 5s\n"
     ]
    }
   ],
   "source": [
    "%%time\n",
    "ego = []\n",
    "for i in range(0,100):\n",
    "    ego.append(ego_cca(G, hospitals['nearest_osm'][i], distances[2]))"
   ]
  },
  {
   "cell_type": "code",
   "execution_count": 30,
   "id": "boxed-dayton",
   "metadata": {},
   "outputs": [
    {
     "name": "stdout",
     "output_type": "stream",
     "text": [
      "Wall time: 50.2 s\n"
     ]
    }
   ],
   "source": [
    "%%time\n",
    "dij = []\n",
    "for i in range(0,100):\n",
    "    dij.append( dijkstra_cca(G, hospitals['nearest_osm'][i], distances[2]))"
   ]
  },
  {
   "cell_type": "code",
   "execution_count": 10,
   "id": "automatic-beast",
   "metadata": {},
   "outputs": [
    {
     "name": "stdout",
     "output_type": "stream",
     "text": [
      "0    True\n",
      "Name: geometry, dtype: bool\n",
      "0    True\n",
      "Name: geometry, dtype: bool\n",
      "0    True\n",
      "Name: geometry, dtype: bool\n",
      "0    True\n",
      "Name: geometry, dtype: bool\n",
      "0    True\n",
      "Name: geometry, dtype: bool\n",
      "0    True\n",
      "Name: geometry, dtype: bool\n",
      "0    True\n",
      "Name: geometry, dtype: bool\n",
      "0    True\n",
      "Name: geometry, dtype: bool\n",
      "0    True\n",
      "Name: geometry, dtype: bool\n",
      "0    True\n",
      "Name: geometry, dtype: bool\n"
     ]
    }
   ],
   "source": [
    "for i in range(10):\n",
    "    print(ego[i].geometry == dij[i].geometry)"
   ]
  }
 ],
 "metadata": {
  "kernelspec": {
   "display_name": "Python 3",
   "language": "python",
   "name": "python3"
  },
  "language_info": {
   "codemirror_mode": {
    "name": "ipython",
    "version": 3
   },
   "file_extension": ".py",
   "mimetype": "text/x-python",
   "name": "python",
   "nbconvert_exporter": "python",
   "pygments_lexer": "ipython3",
   "version": "3.9.1"
  }
 },
 "nbformat": 4,
 "nbformat_minor": 5
}
